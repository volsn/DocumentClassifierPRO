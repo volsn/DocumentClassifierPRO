{
 "cells": [
  {
   "cell_type": "code",
   "execution_count": 1,
   "metadata": {},
   "outputs": [],
   "source": [
    "import cv2\n",
    "import imutils\n",
    "import os\n",
    "import random\n",
    "import numpy as np\n",
    "import matplotlib.pyplot as plt\n",
    "from pytesseract import image_to_string\n",
    "%matplotlib inline"
   ]
  },
  {
   "cell_type": "code",
   "execution_count": 2,
   "metadata": {},
   "outputs": [],
   "source": [
    "def display_img(img, mode=None):\n",
    "    \n",
    "    fig = plt.figure(figsize=(12, 10))\n",
    "    ax = fig.add_subplot(111)\n",
    "    \n",
    "    if mode == 'gray':\n",
    "        ax.imshow(img, cmap='gray')\n",
    "    else:\n",
    "        img = cv2.cvtColor(img, cv2.COLOR_BGR2RGB)\n",
    "        ax.imshow(img)"
   ]
  },
  {
   "cell_type": "code",
   "execution_count": null,
   "metadata": {},
   "outputs": [],
   "source": []
  },
  {
   "cell_type": "markdown",
   "metadata": {},
   "source": [
    "## Reading text from passport"
   ]
  },
  {
   "cell_type": "code",
   "execution_count": null,
   "metadata": {},
   "outputs": [],
   "source": []
  },
  {
   "cell_type": "code",
   "execution_count": 3,
   "metadata": {},
   "outputs": [],
   "source": [
    "docs = os.listdir('output1')"
   ]
  },
  {
   "cell_type": "code",
   "execution_count": 6,
   "metadata": {},
   "outputs": [],
   "source": [
    "if not os.path.exists('raw_text'):\n",
    "    os.mkdir('raw_text')"
   ]
  },
  {
   "cell_type": "code",
   "execution_count": null,
   "metadata": {},
   "outputs": [],
   "source": []
  },
  {
   "cell_type": "code",
   "execution_count": null,
   "metadata": {},
   "outputs": [],
   "source": [
    "for (i, image) in enumerate(docs):\n",
    "    \n",
    "    name = image.split('.')[0]\n",
    "    \n",
    "    img = cv2.imread(os.path.join('output1', image), 0)\n",
    "    \n",
    "    blurred = cv2.medianBlur(img, 1)\n",
    "    thresh = cv2.threshold(blurred.copy(), 0, 225,\n",
    "                           cv2.THRESH_BINARY + cv2.THRESH_OTSU)[1]\n",
    "    raw_text = image_to_string(thresh, lang='rus')\n",
    "    \n",
    "    with open(os.path.join('raw_text', '{}.txt'.format(name)), 'w') as f:\n",
    "        f.write(raw_text)\n",
    "    \n",
    "    print(i)"
   ]
  },
  {
   "cell_type": "code",
   "execution_count": null,
   "metadata": {},
   "outputs": [],
   "source": []
  },
  {
   "cell_type": "code",
   "execution_count": 31,
   "metadata": {},
   "outputs": [],
   "source": [
    "def find_person_name(image):\n",
    "    \n",
    "    (h, w, _) = image.shape\n",
    "    bottom = image[int(h/2):h, 0:w].copy()\n",
    "    \n",
    "    edged = cv2.Canny(bottom, 75, 200)\n",
    "    \n",
    "    rectKernel = cv2.getStructuringElement(cv2.MORPH_RECT, (25, 5))\n",
    "    edged = cv2.morphologyEx(edged, cv2.MORPH_CLOSE, rectKernel)\n",
    "\n",
    "    edged = cv2.erode(edged, (25, 25), iterations=2)\n",
    "    edged = cv2.dilate(edged, (25, 25), iterations=2)\n",
    "    \n",
    "    cnts = cv2.findContours(edged.copy(), cv2.RETR_LIST, cv2.CHAIN_APPROX_SIMPLE)\n",
    "    cnts = imutils.grab_contours(cnts)\n",
    "    cnts = contours.sort_contours(cnts,\n",
    "                        method=\"top-to-bottom\")[0]\n",
    "    hullImage = np.zeros(bottom.shape[:2], dtype=\"uint8\")\n",
    "    \n",
    "    full_name = []\n",
    "    for (i, c) in enumerate(cnts):\n",
    "        (x, y, w, h) = cv2.boundingRect(c)\n",
    "        ar = w / h\n",
    "\n",
    "        if w > 100 and h > 100 and ar > 2.5:\n",
    "\n",
    "            output = bottom.copy()\n",
    "            \n",
    "            full_name.append(image_to_string(output[y:y+h,x:x+w], lang='rus').replace('\\n', ' '))\n",
    "            print(image_to_string(output[y:y+h,x:x+w], lang='rus').replace('\\n', ' '))\n",
    "            \n",
    "            \n",
    "    result = []\n",
    "    result.append([re.sub(r'[^а-яА-Я]+', '', f) for f in full_name if f != ''][:3])\n",
    "    result.append(full_name)\n",
    "    return result"
   ]
  },
  {
   "cell_type": "code",
   "execution_count": 32,
   "metadata": {},
   "outputs": [],
   "source": [
    "import re\n",
    "from imutils import contours"
   ]
  },
  {
   "cell_type": "code",
   "execution_count": 39,
   "metadata": {},
   "outputs": [],
   "source": [
    "def read_text_from_passport(image):\n",
    "    \n",
    "    raw_text = image_to_string(image, lang='rus').replace(' ', '')\n",
    "    side = imutils.rotate_bound(image, -90)\n",
    "    side = image_to_string(side, lang='rus').replace(' ', '')\n",
    "    \n",
    "    passport = {\n",
    "        'ocr_result': {\n",
    "            'doc_type': 'passport',\n",
    "            'issue_authority': '',\n",
    "            'issue_code': '',\n",
    "            'issue_date': '',\n",
    "            'birth_date': '',\n",
    "            'ver1':{\n",
    "                'patronymic_name': '',\n",
    "                'name': '',\n",
    "                'surname': ','\n",
    "            },\n",
    "            'gender': '',\n",
    "            'birth_place': '',\n",
    "            'series': '',\n",
    "            'number': '',\n",
    "        },\n",
    "        'text': '',\n",
    "    }\n",
    "    \n",
    "    \n",
    "    # Looking for issue date\n",
    "    date = re.findall(r'(\\d{2}.{1,3}\\d{2}.{1,3}\\d{4})', raw_text)\n",
    "    if date is not None:\n",
    "        passport['ocr_result']['issue_date'] = date[0][0]\n",
    "    if len(date) >= 2:\n",
    "        passport['ocr_result']['birth_date'] = date[1][0]\n",
    "\n",
    "    # Looking for issue code\n",
    "    code = re.search(r'\\d{3}-\\d{3}', raw_text)\n",
    "    if code is not None:\n",
    "        passport['ocr_result']['issue_code'] = code[0]\n",
    "\n",
    "        \n",
    "    # Looking for passport series\n",
    "    series = re.search(r'(\\d{2} \\d{2})', side)\n",
    "    if series is not None:\n",
    "        passport['ocr_result']['series'] = series[0]\n",
    "\n",
    "    # Looking for passport number\n",
    "    num = re.search(r'(\\d{6})', side)\n",
    "    if num is not None:\n",
    "        passport['ocr_result']['number'] = num[0]\n",
    "    \n",
    "    \n",
    "    \n",
    "    name = find_person_name(image)\n",
    "    \n",
    "    if len(name) == 3:\n",
    "        passport['ocr_result']['ver1']['patronymic_name'] = name[-1]\n",
    "        passport['ocr_result']['ver1']['name'] = name[-1]\n",
    "        passport['ocr_result']['ver1']['surname'] = name[-1]\n",
    "\n",
    "    # Looking for gender\n",
    "    if passport['ocr_result']['ver1']['patronymic_name'].endswith('ВИЧ') \\\n",
    "                        or re.search(r'(МУЖ|МУЖ.) ', raw_text) is not None:\n",
    "        passport['ocr_result']['gender'] = 'male'\n",
    "    elif passport['ocr_result']['ver1']['patronymic_name'].endswith('ВНА') \\\n",
    "                        or re.search(r'(ЖЕН|ЖЕН.) ', raw_text) is not None:\n",
    "        passport['ocr_result']['gender'] = 'female'\n",
    "        \n",
    "    return passport"
   ]
  },
  {
   "cell_type": "code",
   "execution_count": 40,
   "metadata": {},
   "outputs": [],
   "source": [
    "image = cv2.imread('output1/75.png')\n",
    "data = read_text_from_passport(image)"
   ]
  },
  {
   "cell_type": "code",
   "execution_count": null,
   "metadata": {},
   "outputs": [],
   "source": []
  }
 ],
 "metadata": {
  "kernelspec": {
   "display_name": "Python 3",
   "language": "python",
   "name": "python3"
  },
  "language_info": {
   "codemirror_mode": {
    "name": "ipython",
    "version": 3
   },
   "file_extension": ".py",
   "mimetype": "text/x-python",
   "name": "python",
   "nbconvert_exporter": "python",
   "pygments_lexer": "ipython3",
   "version": "3.7.3"
  }
 },
 "nbformat": 4,
 "nbformat_minor": 2
}
