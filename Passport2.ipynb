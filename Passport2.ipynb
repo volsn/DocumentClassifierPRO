{
 "cells": [
  {
   "cell_type": "code",
   "execution_count": 2,
   "metadata": {},
   "outputs": [],
   "source": [
    "import cv2\n",
    "import imutils\n",
    "from imutils import resize\n",
    "from imutils import contours\n",
    "from pyimagesearch.transform import four_point_transform\n",
    "from skimage.filters import threshold_local\n",
    "from pytesseract import image_to_string\n",
    "import os\n",
    "import numpy as np\n",
    "import re"
   ]
  },
  {
   "cell_type": "code",
   "execution_count": 3,
   "metadata": {},
   "outputs": [
    {
     "data": {
      "text/plain": [
       "['.idea',\n",
       " '.ipynb_checkpoints',\n",
       " '84.jpeg',\n",
       " '87.jpeg',\n",
       " '88.jpeg',\n",
       " '89.jpeg',\n",
       " '93.jpeg',\n",
       " '94.jpeg',\n",
       " '98.jpeg',\n",
       " '99.jpeg',\n",
       " 'cascade.xml',\n",
       " 'Cutting.ipynb',\n",
       " 'frozen_east_text_detection.pb',\n",
       " 'mask.png',\n",
       " 'passport.py',\n",
       " 'Passport2.ipynb',\n",
       " 'Production.ipynb',\n",
       " 'pyimagesearch',\n",
       " 'server.py',\n",
       " 'templates',\n",
       " 'test',\n",
       " 'Testing.ipynb',\n",
       " 'TMP',\n",
       " 'venv',\n",
       " '__pycache__']"
      ]
     },
     "execution_count": 3,
     "metadata": {},
     "output_type": "execute_result"
    }
   ],
   "source": [
    "os.listdir()"
   ]
  },
  {
   "cell_type": "code",
   "execution_count": 4,
   "metadata": {},
   "outputs": [],
   "source": [
    "def rotate_passport(image):\n",
    "    \n",
    "    # Initializing cascade\n",
    "    cascade = cv2.CascadeClassifier('cascade.xml')\n",
    "    gray = cv2.cvtColor(image.copy(), cv2.COLOR_BGR2GRAY)\n",
    "    \n",
    "    rotates = 0\n",
    "    # Looking for a face\n",
    "    for _ in range(4):\n",
    "        \n",
    "        face = cascade.detectMultiScale(gray, 1.3, 5)\n",
    "        \n",
    "        if face is not ():\n",
    "            return imutils.rotate_bound(image, 90 * rotates)\n",
    "        \n",
    "        gray = imutils.rotate_bound(gray, 90)\n",
    "        rotates += 1\n",
    "    \n",
    "    # Return false if the given picture is not a passport\n",
    "    return False"
   ]
  },
  {
   "cell_type": "code",
   "execution_count": null,
   "metadata": {},
   "outputs": [],
   "source": []
  },
  {
   "cell_type": "code",
   "execution_count": null,
   "metadata": {},
   "outputs": [],
   "source": []
  },
  {
   "cell_type": "code",
   "execution_count": 5,
   "metadata": {},
   "outputs": [
    {
     "data": {
      "text/plain": [
       "\"\\ncv2.imshow('Image', image)\\ncv2.waitKey(0)\\n\""
      ]
     },
     "execution_count": 5,
     "metadata": {},
     "output_type": "execute_result"
    }
   ],
   "source": [
    "image = cv2.imread('84.jpeg')\n",
    "image = rotate_passport(image)\n",
    "#image = imutils.resize(image, width=1000)\n",
    "\"\"\"\n",
    "cv2.imshow('Image', image)\n",
    "cv2.waitKey(0)\n",
    "\"\"\""
   ]
  },
  {
   "cell_type": "code",
   "execution_count": null,
   "metadata": {},
   "outputs": [],
   "source": []
  },
  {
   "cell_type": "code",
   "execution_count": 6,
   "metadata": {},
   "outputs": [],
   "source": [
    "gray = cv2.cvtColor(image, cv2.COLOR_BGR2GRAY)\n",
    "#gray = cv2.GaussianBlur(gray, (1, 1), 0)\n",
    "edged = cv2.Canny(gray, 75, 200)\n",
    "\n",
    "rectKernel = cv2.getStructuringElement(cv2.MORPH_RECT, (50, 50))\n",
    "edged = cv2.morphologyEx(edged, cv2.MORPH_CLOSE, rectKernel)"
   ]
  },
  {
   "cell_type": "code",
   "execution_count": 7,
   "metadata": {},
   "outputs": [
    {
     "data": {
      "text/plain": [
       "-1"
      ]
     },
     "execution_count": 7,
     "metadata": {},
     "output_type": "execute_result"
    }
   ],
   "source": [
    "cv2.imshow('Edged', edged)\n",
    "cv2.waitKey(0)"
   ]
  },
  {
   "cell_type": "code",
   "execution_count": 8,
   "metadata": {},
   "outputs": [],
   "source": [
    "cnts = cv2.findContours(edged.copy(), cv2.RETR_LIST, cv2.CHAIN_APPROX_SIMPLE)\n",
    "cnts = imutils.grab_contours(cnts)\n",
    "cnts = sorted(cnts, key = cv2.contourArea, reverse = True)[:5]\n",
    "hullImage = np.zeros(gray.shape[:2], dtype=\"uint8\")"
   ]
  },
  {
   "cell_type": "code",
   "execution_count": 9,
   "metadata": {},
   "outputs": [
    {
     "data": {
      "text/plain": [
       "-1"
      ]
     },
     "execution_count": 9,
     "metadata": {},
     "output_type": "execute_result"
    }
   ],
   "source": [
    "max_area = 0\n",
    "for (i, c) in enumerate(cnts):\n",
    "    area = cv2.contourArea(c)\n",
    "    \n",
    "    if area > max_area:\n",
    "\n",
    "        max_area = area\n",
    "\n",
    "        (x, y, w, h) = cv2.boundingRect(c)\n",
    "\n",
    "        aspectRatio = w / float(h)\n",
    "\n",
    "        extent = area / float(w * h)\n",
    "\n",
    "        hull = cv2.convexHull(c)\n",
    "        hullArea = cv2.contourArea(hull)\n",
    "\n",
    "        solidity = area / float(hullArea)\n",
    "\n",
    "        \n",
    "        output = image.copy()\n",
    "        cv2.drawContours(output, [c], -1, (240, 0, 159), 3)\n",
    "        cv2.imshow('Output', output)\n",
    "        cv2.waitKey(0)\n",
    "        \n",
    "\n",
    "cv2.drawContours(hullImage, [hull], -1, 255, -1)\n",
    "#cv2.drawContours(image, [c], -1, (240, 0, 159), 3)\n",
    "\n",
    "\n",
    "cv2.imshow(\"Convex Hull\", resize(hullImage, width=750))\n",
    "cv2.imshow(\"Image\", resize(image, width=750))\n",
    "cv2.waitKey(0)"
   ]
  },
  {
   "cell_type": "code",
   "execution_count": 10,
   "metadata": {},
   "outputs": [
    {
     "data": {
      "text/plain": [
       "-1"
      ]
     },
     "execution_count": 10,
     "metadata": {},
     "output_type": "execute_result"
    }
   ],
   "source": [
    "#image = resize(image, width=750)\n",
    "#hullImage = resize(hullImage, width=750)\n",
    "\n",
    "masked = cv2.bitwise_and(image, image, mask=hullImage)\n",
    "cv2.imshow('Masked', masked)\n",
    "cv2.waitKey(0)"
   ]
  },
  {
   "cell_type": "code",
   "execution_count": null,
   "metadata": {},
   "outputs": [],
   "source": []
  },
  {
   "cell_type": "code",
   "execution_count": null,
   "metadata": {},
   "outputs": [],
   "source": []
  },
  {
   "cell_type": "code",
   "execution_count": null,
   "metadata": {},
   "outputs": [],
   "source": []
  },
  {
   "cell_type": "code",
   "execution_count": null,
   "metadata": {},
   "outputs": [],
   "source": []
  },
  {
   "cell_type": "code",
   "execution_count": null,
   "metadata": {},
   "outputs": [],
   "source": []
  },
  {
   "cell_type": "code",
   "execution_count": null,
   "metadata": {},
   "outputs": [],
   "source": []
  },
  {
   "cell_type": "code",
   "execution_count": 11,
   "metadata": {},
   "outputs": [],
   "source": [
    "def get_segment_crop(img,tol=0, mask=None):\n",
    "    if mask is None:\n",
    "        mask = img > tol\n",
    "    return img[np.ix_(mask.any(1), mask.any(0))]"
   ]
  },
  {
   "cell_type": "code",
   "execution_count": 12,
   "metadata": {},
   "outputs": [],
   "source": [
    "croped = get_segment_crop(image, mask=hullImage)"
   ]
  },
  {
   "cell_type": "code",
   "execution_count": 13,
   "metadata": {},
   "outputs": [
    {
     "data": {
      "text/plain": [
       "\"\\ncv2.imshow('ROI', image)\\ncv2.imshow('Mask', hullImage)\\ncv2.imshow('Croped', croped)\\ncv2.waitKey(0)\\ncv2.destroyAllWindows()\\n\""
      ]
     },
     "execution_count": 13,
     "metadata": {},
     "output_type": "execute_result"
    }
   ],
   "source": [
    "\"\"\"\n",
    "cv2.imshow('ROI', image)\n",
    "cv2.imshow('Mask', hullImage)\n",
    "cv2.imshow('Croped', croped)\n",
    "cv2.waitKey(0)\n",
    "cv2.destroyAllWindows()\n",
    "\"\"\""
   ]
  },
  {
   "cell_type": "code",
   "execution_count": null,
   "metadata": {},
   "outputs": [],
   "source": []
  },
  {
   "cell_type": "code",
   "execution_count": null,
   "metadata": {},
   "outputs": [],
   "source": []
  },
  {
   "cell_type": "code",
   "execution_count": 14,
   "metadata": {},
   "outputs": [],
   "source": [
    "def skew_text_correction(image):\n",
    "    \n",
    "    gray = cv2.cvtColor(image, cv2.COLOR_BGR2GRAY)\n",
    "    gray = cv2.bitwise_not(gray)\n",
    "    \n",
    "    thresh = cv2.threshold(gray, 0, 255,\n",
    "                cv2.THRESH_BINARY | cv2.THRESH_OTSU)[1]\n",
    "\n",
    "    \"\"\"\n",
    "    cv2.imshow('Thresh', thresh)\n",
    "    cv2.waitKey(0)\n",
    "    \"\"\"\n",
    "    \n",
    "    coords = np.column_stack(np.where(thresh > 0))\n",
    "    angle = cv2.minAreaRect(coords)[-1]\n",
    "    \n",
    "    if angle < -45:\n",
    "        angle = -(90 + angle)\n",
    "\n",
    "    else:\n",
    "        angle = -angle\n",
    "    \n",
    "    print(angle)\n",
    "    \n",
    "    (h, w) = image.shape[:2]\n",
    "    center = (w // 2, h // 2)\n",
    "    M = cv2.getRotationMatrix2D(center, angle, 1.0)\n",
    "    rotated = cv2.warpAffine(image, M, (w, h),\n",
    "                flags=cv2.INTER_CUBIC, borderMode=cv2.BORDER_REPLICATE)\n",
    "       \n",
    "    \n",
    "    \"\"\"\n",
    "    cv2.imshow(\"Input\", image)\n",
    "    cv2.imshow(\"Rotated\", rotated)\n",
    "    cv2.waitKey(0)\n",
    "    \"\"\"\n",
    "    \n",
    "    return rotated"
   ]
  },
  {
   "cell_type": "code",
   "execution_count": 15,
   "metadata": {
    "scrolled": true
   },
   "outputs": [
    {
     "name": "stdout",
     "output_type": "stream",
     "text": [
      "-0.8550949096679688\n"
     ]
    }
   ],
   "source": [
    "croped = skew_text_correction(croped)"
   ]
  },
  {
   "cell_type": "code",
   "execution_count": 16,
   "metadata": {},
   "outputs": [],
   "source": [
    "cv2.imshow('Croped', croped)\n",
    "cv2.imshow('Original', image)\n",
    "cv2.waitKey(0)\n",
    "cv2.destroyAllWindows()"
   ]
  },
  {
   "cell_type": "code",
   "execution_count": null,
   "metadata": {},
   "outputs": [],
   "source": []
  },
  {
   "cell_type": "code",
   "execution_count": 17,
   "metadata": {},
   "outputs": [],
   "source": [
    "image = croped"
   ]
  },
  {
   "cell_type": "code",
   "execution_count": 18,
   "metadata": {},
   "outputs": [],
   "source": [
    "(h, w, _) = image.shape\n",
    "top = image[0:int(h/2), 0:w]\n",
    "bottom = image[int(h/2 + h/20):int(h-h/4),int(w/3):w]"
   ]
  },
  {
   "cell_type": "code",
   "execution_count": 19,
   "metadata": {},
   "outputs": [],
   "source": [
    "cv2.imshow('Top', top)\n",
    "cv2.imshow('Bottom', bottom)\n",
    "cv2.waitKey(0)\n",
    "cv2.destroyAllWindows()"
   ]
  },
  {
   "cell_type": "code",
   "execution_count": 20,
   "metadata": {
    "scrolled": false
   },
   "outputs": [
    {
     "data": {
      "text/plain": [
       "'>» ГИНДУЛЛИНА\\n\\n> иАаья _\\n— ГЕН ЕВНА\\n„ЖЕН, =.-- 10.06.1980\\n\\nФа г ри и р Ар А Ри\\n\\n19\\n\\n#0'"
      ]
     },
     "execution_count": 20,
     "metadata": {},
     "output_type": "execute_result"
    }
   ],
   "source": [
    "image_to_string(bottom, lang='rus')"
   ]
  },
  {
   "cell_type": "code",
   "execution_count": null,
   "metadata": {},
   "outputs": [],
   "source": []
  },
  {
   "cell_type": "code",
   "execution_count": null,
   "metadata": {},
   "outputs": [],
   "source": []
  },
  {
   "cell_type": "code",
   "execution_count": 21,
   "metadata": {},
   "outputs": [],
   "source": [
    "gray = cv2.cvtColor(bottom, cv2.COLOR_BGR2GRAY)\n",
    "edged = cv2.Canny(gray, 75, 200)"
   ]
  },
  {
   "cell_type": "code",
   "execution_count": 22,
   "metadata": {},
   "outputs": [
    {
     "data": {
      "text/plain": [
       "-1"
      ]
     },
     "execution_count": 22,
     "metadata": {},
     "output_type": "execute_result"
    }
   ],
   "source": [
    "cv2.imshow('Edged', edged)\n",
    "cv2.waitKey(0)"
   ]
  },
  {
   "cell_type": "code",
   "execution_count": 23,
   "metadata": {},
   "outputs": [],
   "source": [
    "rectKernel = cv2.getStructuringElement(cv2.MORPH_RECT, (25, 25))\n",
    "edged = cv2.morphologyEx(edged, cv2.MORPH_CLOSE, rectKernel)"
   ]
  },
  {
   "cell_type": "code",
   "execution_count": 24,
   "metadata": {
    "scrolled": true
   },
   "outputs": [
    {
     "data": {
      "text/plain": [
       "-1"
      ]
     },
     "execution_count": 24,
     "metadata": {},
     "output_type": "execute_result"
    }
   ],
   "source": [
    "cv2.imshow('Edged', edged)\n",
    "cv2.waitKey(0)"
   ]
  },
  {
   "cell_type": "code",
   "execution_count": 25,
   "metadata": {},
   "outputs": [],
   "source": [
    "edged = cv2.erode(edged, (25, 25), iterations=3)\n",
    "edged = cv2.dilate(edged, (25, 25), iterations=3)"
   ]
  },
  {
   "cell_type": "code",
   "execution_count": null,
   "metadata": {},
   "outputs": [],
   "source": []
  },
  {
   "cell_type": "code",
   "execution_count": null,
   "metadata": {},
   "outputs": [],
   "source": []
  },
  {
   "cell_type": "code",
   "execution_count": null,
   "metadata": {},
   "outputs": [],
   "source": []
  },
  {
   "cell_type": "code",
   "execution_count": 26,
   "metadata": {},
   "outputs": [],
   "source": [
    "cnts = cv2.findContours(edged.copy(), cv2.RETR_LIST, cv2.CHAIN_APPROX_SIMPLE)\n",
    "cnts = imutils.grab_contours(cnts)\n",
    "cnts = contours.sort_contours(cnts,\n",
    "                    method=\"top-to-bottom\")[0]\n",
    "hullImage = np.zeros(gray.shape[:2], dtype=\"uint8\")"
   ]
  },
  {
   "cell_type": "code",
   "execution_count": 27,
   "metadata": {},
   "outputs": [
    {
     "name": "stdout",
     "output_type": "stream",
     "text": [
      "24\n"
     ]
    }
   ],
   "source": [
    "print(len(cnts))"
   ]
  },
  {
   "cell_type": "code",
   "execution_count": 28,
   "metadata": {},
   "outputs": [],
   "source": [
    "full_name = []\n",
    "for (i, c) in enumerate(cnts):\n",
    "    (x, y, w, h) = cv2.boundingRect(c)\n",
    "    ar = w / h\n",
    "    \n",
    "    if w > 20 and h > 20 and ar > 2.5:\n",
    "\n",
    "        output = bottom.copy()\n",
    "\n",
    "        cv2.rectangle(output, (x - 5, y - 5),\n",
    "                    (x + w + 5, y + h + 5), (0, 0, 255), 2)\n",
    "        \n",
    "        full_name.append(image_to_string(output[y-5:y+h+5,x-5:x+w+5], lang='rus'))\n",
    "        \n",
    "        cv2.imshow('Output', output)\n",
    "        cv2.waitKey(0)"
   ]
  },
  {
   "cell_type": "code",
   "execution_count": 29,
   "metadata": {},
   "outputs": [],
   "source": [
    "full_name = [re.sub(r'[^А-Я]+', '', f) for f in full_name][:3]"
   ]
  },
  {
   "cell_type": "code",
   "execution_count": 30,
   "metadata": {},
   "outputs": [
    {
     "data": {
      "text/plain": [
       "['ГИНДУЛЛИНА', 'НАТАЛЬЯ', 'ГЕННАДИЕВНА']"
      ]
     },
     "execution_count": 30,
     "metadata": {},
     "output_type": "execute_result"
    }
   ],
   "source": [
    "full_name"
   ]
  },
  {
   "cell_type": "code",
   "execution_count": null,
   "metadata": {},
   "outputs": [],
   "source": []
  },
  {
   "cell_type": "code",
   "execution_count": null,
   "metadata": {},
   "outputs": [],
   "source": []
  },
  {
   "cell_type": "code",
   "execution_count": null,
   "metadata": {},
   "outputs": [],
   "source": []
  },
  {
   "cell_type": "code",
   "execution_count": null,
   "metadata": {},
   "outputs": [],
   "source": []
  },
  {
   "cell_type": "code",
   "execution_count": null,
   "metadata": {},
   "outputs": [],
   "source": []
  },
  {
   "cell_type": "code",
   "execution_count": null,
   "metadata": {},
   "outputs": [],
   "source": []
  },
  {
   "cell_type": "code",
   "execution_count": null,
   "metadata": {},
   "outputs": [],
   "source": []
  },
  {
   "cell_type": "code",
   "execution_count": null,
   "metadata": {},
   "outputs": [],
   "source": []
  },
  {
   "cell_type": "code",
   "execution_count": 49,
   "metadata": {},
   "outputs": [],
   "source": [
    "cnts = cv2.findContours(thresh.copy(), cv2.RETR_EXTERNAL,\n",
    "            cv2.CHAIN_APPROX_SIMPLE)\n",
    "cnts = imutils.grab_contours(cnts)\n",
    "cnts = contours.sort_contours(cnts,\n",
    "                method=\"top-to-bottom\")[0]\n",
    "locs = []\n",
    "\n",
    "for (i, c) in enumerate(cnts):\n",
    "    (x, y, w, h) = cv2.boundingRect(c)\n",
    "    ar = w / float(h)\n",
    "\n",
    "    if w > 10 and h > 10:\n",
    "        locs.append((x, y, w, h))\n",
    "\n",
    "        cv2.rectangle(image, (x - 5, y - 5),\n",
    "                             (x + w + 5, y + h + 5), (0, 0, 255), 2)\n",
    "\n",
    "        cv2.imshow('ROI', image)\n",
    "        cv2.waitKey(0)\n"
   ]
  },
  {
   "cell_type": "code",
   "execution_count": null,
   "metadata": {},
   "outputs": [],
   "source": []
  },
  {
   "cell_type": "code",
   "execution_count": null,
   "metadata": {},
   "outputs": [],
   "source": []
  },
  {
   "cell_type": "code",
   "execution_count": 71,
   "metadata": {},
   "outputs": [],
   "source": [
    "def read_text_from_box(image, startX, startY, endX, endY):\n",
    "    \n",
    "    box = image[startY:endY, startX: endX]\n",
    "    \n",
    "    \"\"\"\n",
    "    cv2.imshow('ROI', box)\n",
    "    cv2.waitKey(0)\n",
    "    \"\"\"\n",
    "    \n",
    "    box = cv2.resize(box, None, fx=2, fy=2, interpolation=cv2.INTER_CUBIC)\n",
    "\n",
    "    gray = cv2.cvtColor(box.copy(), cv2.COLOR_BGR2GRAY)\n",
    "\n",
    "    blurred = cv2.medianBlur(gray, 1)\n",
    "    thresh = cv2.threshold(blurred.copy(), 0, 225,\n",
    "                           cv2.THRESH_BINARY + cv2.THRESH_OTSU)[1]\n",
    "\n",
    "    return image_to_string(thresh, lang='rus').replace('\\n', ' ')"
   ]
  },
  {
   "cell_type": "code",
   "execution_count": 72,
   "metadata": {},
   "outputs": [],
   "source": [
    "def locate_text(image, type_):\n",
    "    \n",
    "    image = image.copy()\n",
    "    \n",
    "    if type_ == 'top':\n",
    "        rectKernel = cv2.getStructuringElement(cv2.MORPH_RECT, (20, 3))\n",
    "    elif type_ == 'bottom' or type_ == 'number':\n",
    "        rectKernel = cv2.getStructuringElement(cv2.MORPH_RECT, (15, 5))\n",
    "        \n",
    "    sqKernel = cv2.getStructuringElement(cv2.MORPH_RECT, (2, 2))\n",
    "    \n",
    "    #image = imutils.resize(image, width=300)\n",
    "    gray = cv2.cvtColor(image, cv2.COLOR_BGR2GRAY)\n",
    "    gray = cv2.GaussianBlur(gray, (5, 5), 0)\n",
    "    tophat = cv2.morphologyEx(gray, cv2.MORPH_BLACKHAT, rectKernel)\n",
    "    \n",
    "    \"\"\"\n",
    "    cv2.imshow('Tophat', tophat)\n",
    "    cv2.waitKey(0)\n",
    "    \n",
    "    \n",
    "    gradX = cv2.Sobel(tophat, ddepth=cv2.CV_32F, dx=1, dy=0,\n",
    "                    ksize=-1)\n",
    "    gradX = np.absolute(gradX)\n",
    "    (minVal, maxVal) = (np.min(gradX), np.max(gradX))\n",
    "    gradX = (255 * ((gradX - minVal) / (maxVal - minVal)))\n",
    "    gradX = gradX.astype(\"uint8\")\n",
    "    \n",
    "    \n",
    "    cv2.imshow('Gradient', gradX)\n",
    "    cv2.waitKey(0)\n",
    "    \"\"\" \n",
    "    \n",
    "    #gradX = cv2.morphologyEx(gradX, cv2.MORPH_CLOSE, rectKernel)\n",
    "    thresh = cv2.threshold(tophat, 0, 255,\n",
    "                cv2.THRESH_BINARY | cv2.THRESH_OTSU)[1]\n",
    "    \n",
    "    kernel = np.ones((5,5),np.uint8)\n",
    "    thresh = cv2.erode(thresh, kernel, iterations = 2)\n",
    "    thresh = cv2.dilate(thresh, kernel, iterations = 2)\n",
    "    thresh = cv2.morphologyEx(thresh, cv2.MORPH_CLOSE, sqKernel)\n",
    "    \n",
    "    p = int(image.shape[1] * 0.05)\n",
    "    thresh[:, 0:p] = 0\n",
    "    thresh[:, image.shape[1] - p:] = 0\n",
    "\n",
    "    \n",
    "    cv2.imshow('Thresh', thresh)\n",
    "    cv2.waitKey(0)\n",
    "    \n",
    "    \n",
    "    cnts = cv2.findContours(thresh.copy(), cv2.RETR_EXTERNAL,\n",
    "                cv2.CHAIN_APPROX_SIMPLE)\n",
    "    cnts = imutils.grab_contours(cnts)\n",
    "    cnts = contours.sort_contours(cnts,\n",
    "                    method=\"top-to-bottom\")[0]\n",
    "    locs = []\n",
    "    \n",
    "    for (i, c) in enumerate(cnts):\n",
    "        (x, y, w, h) = cv2.boundingRect(c)\n",
    "        ar = w / float(h)\n",
    "        \n",
    "        if type_ != 'number':\n",
    "            if w > 10 and h > 10 and ar > 2.5:\n",
    "                locs.append((x, y, w, h))\n",
    "        else:\n",
    "            if w > 10 and h > 10:\n",
    "                locs.append((x, y, w, h))\n",
    "\n",
    "    locs = sorted(locs, key=lambda x:x[0])\n",
    "    \n",
    "    output = []\n",
    "    text = ''\n",
    "    \n",
    "    (h, w, _) = image.shape\n",
    "    \n",
    "    \n",
    "    for (i, (gX, gY, gW, gH)) in enumerate(locs):\n",
    "        groupOutput = []\n",
    " \n",
    "\n",
    "        group = gray[gY - 5:gY + gH + 5, gX - 5:gX + gW + 5]\n",
    "        group = cv2.threshold(group, 0, 255,\n",
    "                    cv2.THRESH_BINARY | cv2.THRESH_OTSU)[1]\n",
    " \n",
    "        cv2.rectangle(image, (gX - 5, gY - 5),\n",
    "                        (gX + gW + 5, gY + gH + 5), (0, 0, 255), 2)\n",
    "        \n",
    "        \n",
    "        cv2.imshow('ROI', image)\n",
    "        cv2.waitKey(0)\n",
    "        \n",
    "        \n",
    "    return text"
   ]
  },
  {
   "cell_type": "code",
   "execution_count": null,
   "metadata": {},
   "outputs": [],
   "source": []
  },
  {
   "cell_type": "code",
   "execution_count": 73,
   "metadata": {},
   "outputs": [
    {
     "ename": "ValueError",
     "evalue": "not enough values to unpack (expected 2, got 0)",
     "output_type": "error",
     "traceback": [
      "\u001b[1;31m---------------------------------------------------------------------------\u001b[0m",
      "\u001b[1;31mValueError\u001b[0m                                Traceback (most recent call last)",
      "\u001b[1;32m<ipython-input-73-9fe5ba9b7faf>\u001b[0m in \u001b[0;36m<module>\u001b[1;34m\u001b[0m\n\u001b[1;32m----> 1\u001b[1;33m \u001b[0mlocs\u001b[0m \u001b[1;33m=\u001b[0m \u001b[0mlocate_text\u001b[0m\u001b[1;33m(\u001b[0m\u001b[0mbottom\u001b[0m\u001b[1;33m,\u001b[0m \u001b[0mtype_\u001b[0m\u001b[1;33m=\u001b[0m\u001b[1;34m'bottom'\u001b[0m\u001b[1;33m)\u001b[0m\u001b[1;33m\u001b[0m\u001b[1;33m\u001b[0m\u001b[0m\n\u001b[0m",
      "\u001b[1;32m<ipython-input-72-52655a6deb91>\u001b[0m in \u001b[0;36mlocate_text\u001b[1;34m(image, type_)\u001b[0m\n\u001b[0;32m     54\u001b[0m     \u001b[0mcnts\u001b[0m \u001b[1;33m=\u001b[0m \u001b[0mimutils\u001b[0m\u001b[1;33m.\u001b[0m\u001b[0mgrab_contours\u001b[0m\u001b[1;33m(\u001b[0m\u001b[0mcnts\u001b[0m\u001b[1;33m)\u001b[0m\u001b[1;33m\u001b[0m\u001b[1;33m\u001b[0m\u001b[0m\n\u001b[0;32m     55\u001b[0m     cnts = contours.sort_contours(cnts,\n\u001b[1;32m---> 56\u001b[1;33m                     method=\"top-to-bottom\")[0]\n\u001b[0m\u001b[0;32m     57\u001b[0m     \u001b[0mlocs\u001b[0m \u001b[1;33m=\u001b[0m \u001b[1;33m[\u001b[0m\u001b[1;33m]\u001b[0m\u001b[1;33m\u001b[0m\u001b[1;33m\u001b[0m\u001b[0m\n\u001b[0;32m     58\u001b[0m \u001b[1;33m\u001b[0m\u001b[0m\n",
      "\u001b[1;32m~\\Anaconda3\\envs\\OpenCV-master-py3\\lib\\site-packages\\imutils\\contours.py\u001b[0m in \u001b[0;36msort_contours\u001b[1;34m(cnts, method)\u001b[0m\n\u001b[0;32m     23\u001b[0m     \u001b[0mboundingBoxes\u001b[0m \u001b[1;33m=\u001b[0m \u001b[1;33m[\u001b[0m\u001b[0mcv2\u001b[0m\u001b[1;33m.\u001b[0m\u001b[0mboundingRect\u001b[0m\u001b[1;33m(\u001b[0m\u001b[0mc\u001b[0m\u001b[1;33m)\u001b[0m \u001b[1;32mfor\u001b[0m \u001b[0mc\u001b[0m \u001b[1;32min\u001b[0m \u001b[0mcnts\u001b[0m\u001b[1;33m]\u001b[0m\u001b[1;33m\u001b[0m\u001b[1;33m\u001b[0m\u001b[0m\n\u001b[0;32m     24\u001b[0m     (cnts, boundingBoxes) = zip(*sorted(zip(cnts, boundingBoxes),\n\u001b[1;32m---> 25\u001b[1;33m                                         key=lambda b: b[1][i], reverse=reverse))\n\u001b[0m\u001b[0;32m     26\u001b[0m \u001b[1;33m\u001b[0m\u001b[0m\n\u001b[0;32m     27\u001b[0m     \u001b[1;31m# return the list of sorted contours and bounding boxes\u001b[0m\u001b[1;33m\u001b[0m\u001b[1;33m\u001b[0m\u001b[1;33m\u001b[0m\u001b[0m\n",
      "\u001b[1;31mValueError\u001b[0m: not enough values to unpack (expected 2, got 0)"
     ]
    }
   ],
   "source": [
    "locs = locate_text(bottom, type_='bottom')"
   ]
  },
  {
   "cell_type": "code",
   "execution_count": 53,
   "metadata": {},
   "outputs": [
    {
     "ename": "IndexError",
     "evalue": "string index out of range",
     "output_type": "error",
     "traceback": [
      "\u001b[1;31m---------------------------------------------------------------------------\u001b[0m",
      "\u001b[1;31mIndexError\u001b[0m                                Traceback (most recent call last)",
      "\u001b[1;32m<ipython-input-53-fd92cf3a8971>\u001b[0m in \u001b[0;36m<module>\u001b[1;34m\u001b[0m\n\u001b[0;32m      2\u001b[0m \u001b[1;33m\u001b[0m\u001b[0m\n\u001b[0;32m      3\u001b[0m \u001b[1;32mfor\u001b[0m \u001b[0mi\u001b[0m \u001b[1;32min\u001b[0m \u001b[0mrange\u001b[0m\u001b[1;33m(\u001b[0m\u001b[1;36m3\u001b[0m\u001b[1;33m)\u001b[0m\u001b[1;33m:\u001b[0m\u001b[1;33m\u001b[0m\u001b[1;33m\u001b[0m\u001b[0m\n\u001b[1;32m----> 4\u001b[1;33m     \u001b[1;33m(\u001b[0m\u001b[0mgX\u001b[0m\u001b[1;33m,\u001b[0m \u001b[0mgY\u001b[0m\u001b[1;33m,\u001b[0m \u001b[0mgW\u001b[0m\u001b[1;33m,\u001b[0m \u001b[0mgH\u001b[0m\u001b[1;33m)\u001b[0m \u001b[1;33m=\u001b[0m \u001b[0mlocs\u001b[0m\u001b[1;33m[\u001b[0m\u001b[0mi\u001b[0m\u001b[1;33m]\u001b[0m\u001b[1;33m\u001b[0m\u001b[1;33m\u001b[0m\u001b[0m\n\u001b[0m\u001b[0;32m      5\u001b[0m \u001b[1;33m\u001b[0m\u001b[0m\n\u001b[0;32m      6\u001b[0m     text = read_text_from_box(image, gX - 5, gY - 5,\n",
      "\u001b[1;31mIndexError\u001b[0m: string index out of range"
     ]
    }
   ],
   "source": [
    "full_name = []\n",
    "\n",
    "for i in range(3):\n",
    "    (gX, gY, gW, gH) = locs[i]\n",
    "    \n",
    "    text = read_text_from_box(image, gX - 5, gY - 5,\n",
    "                           gX + gW + 5, gY + gH + 5)\n",
    "            \n",
    "    text = re.sub(r'[^а-яА-Я]+', '', text)\n",
    "            \n",
    "    full_name.append(text)"
   ]
  },
  {
   "cell_type": "code",
   "execution_count": 54,
   "metadata": {},
   "outputs": [
    {
     "data": {
      "text/plain": [
       "[]"
      ]
     },
     "execution_count": 54,
     "metadata": {},
     "output_type": "execute_result"
    }
   ],
   "source": [
    "full_name"
   ]
  },
  {
   "cell_type": "code",
   "execution_count": null,
   "metadata": {},
   "outputs": [],
   "source": []
  },
  {
   "cell_type": "code",
   "execution_count": null,
   "metadata": {},
   "outputs": [],
   "source": []
  },
  {
   "cell_type": "code",
   "execution_count": null,
   "metadata": {},
   "outputs": [],
   "source": []
  },
  {
   "cell_type": "code",
   "execution_count": null,
   "metadata": {},
   "outputs": [],
   "source": []
  },
  {
   "cell_type": "code",
   "execution_count": null,
   "metadata": {},
   "outputs": [],
   "source": []
  },
  {
   "cell_type": "code",
   "execution_count": null,
   "metadata": {},
   "outputs": [],
   "source": []
  },
  {
   "cell_type": "code",
   "execution_count": null,
   "metadata": {},
   "outputs": [],
   "source": []
  },
  {
   "cell_type": "code",
   "execution_count": null,
   "metadata": {},
   "outputs": [],
   "source": []
  },
  {
   "cell_type": "code",
   "execution_count": null,
   "metadata": {},
   "outputs": [],
   "source": []
  },
  {
   "cell_type": "code",
   "execution_count": null,
   "metadata": {},
   "outputs": [],
   "source": []
  },
  {
   "cell_type": "code",
   "execution_count": null,
   "metadata": {},
   "outputs": [],
   "source": []
  },
  {
   "cell_type": "code",
   "execution_count": null,
   "metadata": {},
   "outputs": [],
   "source": []
  },
  {
   "cell_type": "code",
   "execution_count": 55,
   "metadata": {},
   "outputs": [
    {
     "data": {
      "text/plain": [
       "-1"
      ]
     },
     "execution_count": 55,
     "metadata": {},
     "output_type": "execute_result"
    }
   ],
   "source": [
    "cv2.imshow('Bottom', bottom)\n",
    "cv2.waitKey(0)"
   ]
  },
  {
   "cell_type": "code",
   "execution_count": 56,
   "metadata": {},
   "outputs": [],
   "source": [
    "image = croped.copy()\n",
    "image = imutils.rotate_bound(image, -90)\n",
    "\n",
    "\n",
    "cv2.imshow('Bottom', image)\n",
    "cv2.waitKey(0)\n",
    "\n",
    "img_hsv = cv2.cvtColor(image, cv2.COLOR_BGR2HSV)\n",
    "lower_red = np.array([0,50,50])\n",
    "upper_red = np.array([10,255,255])\n",
    "mask = cv2.inRange(img_hsv, lower_red, upper_red)\n",
    "masked = cv2.bitwise_and(image, image, mask=mask)"
   ]
  },
  {
   "cell_type": "code",
   "execution_count": 57,
   "metadata": {},
   "outputs": [
    {
     "data": {
      "text/plain": [
       "-1"
      ]
     },
     "execution_count": 57,
     "metadata": {},
     "output_type": "execute_result"
    }
   ],
   "source": [
    "cv2.imshow('Masked', masked)\n",
    "cv2.waitKey(0)"
   ]
  },
  {
   "cell_type": "code",
   "execution_count": 58,
   "metadata": {},
   "outputs": [],
   "source": [
    "kernel = np.ones((5, 5), np.uint8)\n",
    "masked = cv2.dilate(masked, kernel, iterations=3)"
   ]
  },
  {
   "cell_type": "code",
   "execution_count": 59,
   "metadata": {},
   "outputs": [
    {
     "data": {
      "text/plain": [
       "-1"
      ]
     },
     "execution_count": 59,
     "metadata": {},
     "output_type": "execute_result"
    }
   ],
   "source": [
    "cv2.imshow('Dilate', masked)\n",
    "cv2.waitKey(0)"
   ]
  },
  {
   "cell_type": "code",
   "execution_count": 60,
   "metadata": {},
   "outputs": [],
   "source": [
    "kernel = cv2.getStructuringElement(cv2.MORPH_RECT, (30, 30))\n",
    "closed = cv2.morphologyEx(masked, cv2.MORPH_CLOSE, kernel)"
   ]
  },
  {
   "cell_type": "code",
   "execution_count": 62,
   "metadata": {},
   "outputs": [],
   "source": [
    "cv2.imshow('Masked', masked)\n",
    "cv2.imshow('Dilate', masked)\n",
    "cv2.imshow('Closed', closed)\n",
    "cv2.waitKey(0)\n",
    "cv2.destroyAllWindows()"
   ]
  },
  {
   "cell_type": "code",
   "execution_count": 117,
   "metadata": {},
   "outputs": [],
   "source": [
    "closed = cv2.cvtColor(closed, cv2.COLOR_HSV2BGR)\n",
    "closed = cv2.cvtColor(closed, cv2.COLOR_BGR2GRAY)\n",
    "\n",
    "cnts = cv2.findContours(closed.copy(), cv2.RETR_EXTERNAL, cv2.CHAIN_APPROX_SIMPLE)\n",
    "cnts = imutils.grab_contours(cnts)\n",
    "cnts = contours.sort_contours(cnts,\n",
    "                method=\"top-to-bottom\")[0]"
   ]
  },
  {
   "cell_type": "code",
   "execution_count": null,
   "metadata": {},
   "outputs": [],
   "source": []
  },
  {
   "cell_type": "code",
   "execution_count": null,
   "metadata": {},
   "outputs": [],
   "source": []
  },
  {
   "cell_type": "code",
   "execution_count": 121,
   "metadata": {
    "scrolled": false
   },
   "outputs": [],
   "source": [
    "number = ''\n",
    "for c in cnts:\n",
    "    (gX, gY, gW, gH) = cv2.boundingRect(c)\n",
    "    cv2.rectangle(image, (gX - 5, gY - 5),\n",
    "                (gX + gW + 5, gY + gH + 5), (0, 0, 255), 2)\n",
    "    \n",
    "    cv2.imshow('ROI', image)\n",
    "    cv2.waitKey(0)\n",
    "    \n",
    "    number += read_text_from_box(image, gX, gY, gX + gW, gY + gH)"
   ]
  },
  {
   "cell_type": "code",
   "execution_count": 122,
   "metadata": {},
   "outputs": [
    {
     "data": {
      "text/plain": [
       "'67 02 6198{&  вр67 02 619866изо'"
      ]
     },
     "execution_count": 122,
     "metadata": {},
     "output_type": "execute_result"
    }
   ],
   "source": [
    "number"
   ]
  },
  {
   "cell_type": "code",
   "execution_count": null,
   "metadata": {},
   "outputs": [],
   "source": []
  },
  {
   "cell_type": "code",
   "execution_count": null,
   "metadata": {},
   "outputs": [],
   "source": []
  },
  {
   "cell_type": "code",
   "execution_count": 125,
   "metadata": {},
   "outputs": [],
   "source": [
    "def read_passport_number(image, show_steps=False):\n",
    "    \"\"\"\n",
    "    Function for reading passport numbers by finding red zones\n",
    "    :image: np.array\n",
    "    :show_steps: bool\n",
    "    :rtype: string\n",
    "    \"\"\"\n",
    "    \n",
    "    # Rotating the image\n",
    "    image = imutils.rotate_bound(image, -90)\n",
    "\n",
    "    if show_steps:\n",
    "        cv2.imshow('Bottom', image)\n",
    "        cv2.waitKey(0)\n",
    "\n",
    "    \n",
    "    # Creaing and aplying red mask on the image\n",
    "    img_hsv = cv2.cvtColor(image, cv2.COLOR_BGR2HSV)\n",
    "    lower_red = np.array([0,50,50])\n",
    "    upper_red = np.array([10,255,255])\n",
    "    mask = cv2.inRange(img_hsv, lower_red, upper_red)\n",
    "    masked = cv2.bitwise_and(image, image, mask=mask)\n",
    "    \n",
    "    if show_steps:\n",
    "        cv2.imshow('Masked', masked)\n",
    "        cv2.waitKey(0)\n",
    "        \n",
    "    \n",
    "    # Deleting tresh\n",
    "    kernel = np.ones((5, 5), np.uint8)\n",
    "    masked = cv2.dilate(masked, kernel, iterations=3)\n",
    "    \n",
    "    if show_steps:\n",
    "        cv2.imshow('Dilate', masked)\n",
    "        cv2.waitKey(0)\n",
    "    \n",
    "    \n",
    "    # Closing gaps betweeen letters\n",
    "    kernel = cv2.getStructuringElement(cv2.MORPH_RECT, (30, 30))\n",
    "    closed = cv2.morphologyEx(masked, cv2.MORPH_CLOSE, kernel)\n",
    "    \n",
    "    if show_steps:\n",
    "        cv2.imshow('Closed', closed)\n",
    "        cv2.waitKey(0)\n",
    "        \n",
    "    \n",
    "    # Finding image contours\n",
    "    closed = cv2.cvtColor(closed, cv2.COLOR_HSV2BGR)\n",
    "    closed = cv2.cvtColor(closed, cv2.COLOR_BGR2GRAY)\n",
    "\n",
    "    cnts = cv2.findContours(closed.copy(), cv2.RETR_EXTERNAL, cv2.CHAIN_APPROX_SIMPLE)\n",
    "    cnts = imutils.grab_contours(cnts)\n",
    "    cnts = contours.sort_contours(cnts,\n",
    "                    method=\"top-to-bottom\")[0]\n",
    "    \n",
    "    # Reading text from bounding boxes\n",
    "    number = ''\n",
    "    for c in cnts:\n",
    "        (gX, gY, gW, gH) = cv2.boundingRect(c)\n",
    "        cv2.rectangle(image, (gX - 5, gY - 5),\n",
    "                    (gX + gW + 5, gY + gH + 5), (0, 0, 255), 2)\n",
    "        \n",
    "        if show_steps:\n",
    "            cv2.imshow('ROI', image)\n",
    "            cv2.waitKey(0)\n",
    "\n",
    "        number += read_text_from_box(image, gX, gY, gX + gW, gY + gH)\n",
    "        \n",
    "    return number"
   ]
  },
  {
   "cell_type": "code",
   "execution_count": 126,
   "metadata": {},
   "outputs": [],
   "source": [
    "number = read_passport_number(croped)"
   ]
  },
  {
   "cell_type": "code",
   "execution_count": null,
   "metadata": {},
   "outputs": [],
   "source": []
  },
  {
   "cell_type": "code",
   "execution_count": null,
   "metadata": {},
   "outputs": [],
   "source": []
  },
  {
   "cell_type": "code",
   "execution_count": null,
   "metadata": {},
   "outputs": [],
   "source": []
  },
  {
   "cell_type": "code",
   "execution_count": 130,
   "metadata": {},
   "outputs": [],
   "source": [
    "passport = {\n",
    "    'ocr_result': {\n",
    "        'doc_type': 'passport',\n",
    "        'issue_authority': '',\n",
    "        'issue_code': '',\n",
    "        'issue_date': '',\n",
    "        'surname': '',\n",
    "        'name': '',\n",
    "        'patronymic_name': '',\n",
    "        'birth_date': '',\n",
    "        'gender': '',\n",
    "        'birth_place': '',\n",
    "        'series': '',\n",
    "        'number': '',\n",
    "    },\n",
    "    'text': '',\n",
    "}"
   ]
  },
  {
   "cell_type": "code",
   "execution_count": 131,
   "metadata": {},
   "outputs": [],
   "source": [
    "# Looking for passport series\n",
    "\n",
    "series = re.search(r'(\\d{2} {1,3}\\d{2})', number)\n",
    "if series is not None:\n",
    "    passport['ocr_result']['series'] = series[0]\n",
    "    \n",
    "# Looking for passport number\n",
    "\n",
    "num = re.search(r'(\\d{6})', number)\n",
    "if num is not None:\n",
    "    passport['ocr_result']['number'] = num[0]"
   ]
  },
  {
   "cell_type": "code",
   "execution_count": null,
   "metadata": {},
   "outputs": [],
   "source": []
  },
  {
   "cell_type": "code",
   "execution_count": null,
   "metadata": {},
   "outputs": [],
   "source": []
  },
  {
   "cell_type": "code",
   "execution_count": null,
   "metadata": {},
   "outputs": [],
   "source": []
  },
  {
   "cell_type": "code",
   "execution_count": null,
   "metadata": {},
   "outputs": [],
   "source": []
  },
  {
   "cell_type": "code",
   "execution_count": null,
   "metadata": {},
   "outputs": [],
   "source": []
  },
  {
   "cell_type": "code",
   "execution_count": null,
   "metadata": {},
   "outputs": [],
   "source": []
  },
  {
   "cell_type": "code",
   "execution_count": null,
   "metadata": {},
   "outputs": [],
   "source": []
  },
  {
   "cell_type": "code",
   "execution_count": null,
   "metadata": {},
   "outputs": [],
   "source": []
  },
  {
   "cell_type": "code",
   "execution_count": null,
   "metadata": {},
   "outputs": [],
   "source": []
  },
  {
   "cell_type": "code",
   "execution_count": null,
   "metadata": {},
   "outputs": [],
   "source": []
  },
  {
   "cell_type": "code",
   "execution_count": 119,
   "metadata": {},
   "outputs": [],
   "source": [
    "rectKernel = cv2.getStructuringElement(cv2.MORPH_RECT, (300, 300))\n",
    "\n",
    "gray = cv2.cvtColor(image, cv2.COLOR_BGR2GRAY)\n",
    "gray = cv2.GaussianBlur(gray, (5, 5), 0)\n",
    "tophat = cv2.morphologyEx(gray, cv2.MORPH_BLACKHAT, rectKernel)"
   ]
  },
  {
   "cell_type": "code",
   "execution_count": 120,
   "metadata": {},
   "outputs": [],
   "source": [
    "gradX = cv2.Sobel(tophat, ddepth=cv2.CV_32F, dx=1, dy=0,\n",
    "                ksize=-1)\n",
    "gradX = np.absolute(gradX)\n",
    "(minVal, maxVal) = (np.min(gradX), np.max(gradX))\n",
    "gradX = (255 * ((gradX - minVal) / (maxVal - minVal)))\n",
    "gradX = gradX.astype(\"uint8\")"
   ]
  },
  {
   "cell_type": "code",
   "execution_count": 121,
   "metadata": {},
   "outputs": [],
   "source": [
    "rectKernel = cv2.getStructuringElement(cv2.MORPH_RECT, (150, 150))\n",
    "sqKernel = cv2.getStructuringElement(cv2.MORPH_RECT, (25, 25))\n",
    "\n",
    "gradX = cv2.morphologyEx(gradX, cv2.MORPH_CLOSE, rectKernel)\n",
    "thresh = cv2.threshold(gradX, 0, 255,\n",
    "            cv2.THRESH_BINARY | cv2.THRESH_OTSU)[1]\n",
    "\n",
    "thresh = cv2.morphologyEx(thresh, cv2.MORPH_CLOSE, sqKernel)\n"
   ]
  },
  {
   "cell_type": "code",
   "execution_count": 122,
   "metadata": {},
   "outputs": [
    {
     "data": {
      "text/plain": [
       "-1"
      ]
     },
     "execution_count": 122,
     "metadata": {},
     "output_type": "execute_result"
    }
   ],
   "source": [
    "masked = cv2.bitwise_and(image, image, mask=thresh)\n",
    "cv2.imshow('Masked', masked)\n",
    "cv2.waitKey(0)"
   ]
  },
  {
   "cell_type": "code",
   "execution_count": 123,
   "metadata": {},
   "outputs": [],
   "source": [
    "gray = cv2.cvtColor(masked, cv2.COLOR_BGR2GRAY)\n",
    "\n",
    "cnts = cv2.findContours(gray.copy(), cv2.RETR_EXTERNAL, cv2.CHAIN_APPROX_SIMPLE)\n",
    "cnts = imutils.grab_contours(cnts)\n",
    "hullImage = np.zeros(gray.shape[:2], dtype=\"uint8\")"
   ]
  },
  {
   "cell_type": "code",
   "execution_count": 124,
   "metadata": {},
   "outputs": [
    {
     "data": {
      "text/plain": [
       "-1"
      ]
     },
     "execution_count": 124,
     "metadata": {},
     "output_type": "execute_result"
    }
   ],
   "source": [
    "max_area = 0\n",
    "for (i, c) in enumerate(cnts):\n",
    "    area = cv2.contourArea(c)\n",
    "    \n",
    "    if area > max_area:\n",
    "        \n",
    "        max_area = area\n",
    "        \n",
    "        (x, y, w, h) = cv2.boundingRect(c)\n",
    "\n",
    "        aspectRatio = w / float(h)\n",
    "\n",
    "        extent = area / float(w * h)\n",
    "\n",
    "        hull = cv2.convexHull(c)\n",
    "        hullArea = cv2.contourArea(hull)\n",
    "\n",
    "        solidity = area / float(hullArea)\n",
    "        \n",
    "        output = image.copy()\n",
    "        cv2.drawContours(output, [c], -1, (240, 0, 159), 3)\n",
    "        cv2.imshow('Output', output)\n",
    "        cv2.waitKey(0)\n",
    "\n",
    "        \n",
    "cv2.drawContours(hullImage, [hull], -1, 255, -1)\n",
    "#cv2.drawContours(image, [c], -1, (240, 0, 159), 3)\n",
    "\n",
    "\n",
    "cv2.imshow(\"Convex Hull\", resize(hullImage, width=750))\n",
    "cv2.imshow(\"Image\", resize(image, width=750))\n",
    "cv2.waitKey(0)"
   ]
  },
  {
   "cell_type": "code",
   "execution_count": 125,
   "metadata": {},
   "outputs": [
    {
     "data": {
      "text/plain": [
       "-1"
      ]
     },
     "execution_count": 125,
     "metadata": {},
     "output_type": "execute_result"
    }
   ],
   "source": [
    "image = resize(image, width=750)\n",
    "hullImage = resize(hullImage, width=750)\n",
    "\n",
    "masked = cv2.bitwise_and(image, image, mask=hullImage)\n",
    "cv2.imshow('Masked', masked)\n",
    "cv2.waitKey(0)"
   ]
  },
  {
   "cell_type": "code",
   "execution_count": null,
   "metadata": {},
   "outputs": [],
   "source": []
  },
  {
   "cell_type": "code",
   "execution_count": null,
   "metadata": {},
   "outputs": [],
   "source": []
  },
  {
   "cell_type": "code",
   "execution_count": null,
   "metadata": {},
   "outputs": [],
   "source": []
  },
  {
   "cell_type": "code",
   "execution_count": null,
   "metadata": {},
   "outputs": [],
   "source": []
  },
  {
   "cell_type": "code",
   "execution_count": null,
   "metadata": {},
   "outputs": [],
   "source": []
  },
  {
   "cell_type": "code",
   "execution_count": 43,
   "metadata": {},
   "outputs": [
    {
     "data": {
      "text/plain": [
       "-1"
      ]
     },
     "execution_count": 43,
     "metadata": {},
     "output_type": "execute_result"
    }
   ],
   "source": [
    "cv2.imshow('Gradient', gradX)\n",
    "cv2.waitKey(0)"
   ]
  },
  {
   "cell_type": "code",
   "execution_count": 49,
   "metadata": {},
   "outputs": [
    {
     "data": {
      "text/plain": [
       "-1"
      ]
     },
     "execution_count": 49,
     "metadata": {},
     "output_type": "execute_result"
    }
   ],
   "source": []
  },
  {
   "cell_type": "code",
   "execution_count": null,
   "metadata": {},
   "outputs": [],
   "source": []
  },
  {
   "cell_type": "code",
   "execution_count": 40,
   "metadata": {},
   "outputs": [],
   "source": [
    "cv2.imshow('Thresh', resize(thresh.copy(), width=750))\n",
    "cv2.imshow('Input', resize(image.copy(), width=750))\n",
    "cv2.waitKey(0)\n",
    "cv2.destroyAllWindows()"
   ]
  },
  {
   "cell_type": "code",
   "execution_count": null,
   "metadata": {},
   "outputs": [],
   "source": []
  },
  {
   "cell_type": "code",
   "execution_count": null,
   "metadata": {},
   "outputs": [],
   "source": []
  },
  {
   "cell_type": "code",
   "execution_count": null,
   "metadata": {},
   "outputs": [],
   "source": []
  },
  {
   "cell_type": "code",
   "execution_count": null,
   "metadata": {},
   "outputs": [],
   "source": []
  }
 ],
 "metadata": {
  "kernelspec": {
   "display_name": "Python 3",
   "language": "python",
   "name": "python3"
  },
  "language_info": {
   "codemirror_mode": {
    "name": "ipython",
    "version": 3
   },
   "file_extension": ".py",
   "mimetype": "text/x-python",
   "name": "python",
   "nbconvert_exporter": "python",
   "pygments_lexer": "ipython3",
   "version": "3.6.7"
  }
 },
 "nbformat": 4,
 "nbformat_minor": 2
}
