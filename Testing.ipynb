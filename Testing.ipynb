{
 "cells": [
  {
   "cell_type": "code",
   "execution_count": 2,
   "metadata": {},
   "outputs": [],
   "source": [
    "from PIL import Image\n",
    "import pdf2image\n",
    "import imutils\n",
    "from pytesseract import image_to_string\n",
    "import cv2\n",
    "import os\n",
    "import numpy as np"
   ]
  },
  {
   "cell_type": "markdown",
   "metadata": {},
   "source": [
    "## Reading of the image and its rotating"
   ]
  },
  {
   "cell_type": "code",
   "execution_count": 13,
   "metadata": {},
   "outputs": [],
   "source": [
    "def rotate_passport(image):\n",
    "    \n",
    "    # Initializing cascade\n",
    "    cascade = cv2.CascadeClassifier('cascade.xml')\n",
    "    gray = cv2.cvtColor(image.copy(), cv2.COLOR_BGR2GRAY)\n",
    "    \n",
    "    rotates = 0\n",
    "    # Looking for a face\n",
    "    for _ in range(4):\n",
    "        \n",
    "        face = cascade.detectMultiScale(gray, 1.3, 5)\n",
    "        \n",
    "        if face is not ():\n",
    "            return imutils.rotate_bound(image, 90 * rotates)\n",
    "        \n",
    "        gray = imutils.rotate_bound(gray, 90)\n",
    "        rotates += 1\n",
    "    \n",
    "    # Return false if the given picture is not a passport\n",
    "    return False"
   ]
  },
  {
   "cell_type": "code",
   "execution_count": 104,
   "metadata": {},
   "outputs": [],
   "source": [
    "def cut_passport(image):\n",
    "    \n",
    "    # Initializing cascade\n",
    "    cascade = cv2.CascadeClassifier('cascade.xml')\n",
    "    gray = cv2.cvtColor(image.copy(), cv2.COLOR_BGR2GRAY)\n",
    "    \n",
    "    # Finding a face\n",
    "    face = cascade.detectMultiScale(gray, 1.3, 5)\n",
    "    \n",
    "    # Cutting the image so only passport was left\n",
    "    (x, y, w, h) = face[0]\n",
    "    image = image[y - 6 * h: y + 3 * h, x - w:x + 6 * w]\n",
    "    \n",
    "    return image"
   ]
  },
  {
   "cell_type": "code",
   "execution_count": 101,
   "metadata": {},
   "outputs": [],
   "source": [
    "name = 'PASS/88.jpeg'\n",
    "image = cv2.imread(name)\n",
    "image = rotate_passport(image)\n",
    "image = cut_passport(image)\n",
    "\n",
    "cv2.imwrite('result/{}.png'.format(name), image)\n",
    "cv2.imshow('Output', imutils.resize(image.copy(), width=750))\n",
    "cv2.waitKey(0)"
   ]
  },
  {
   "cell_type": "code",
   "execution_count": null,
   "metadata": {},
   "outputs": [],
   "source": []
  },
  {
   "cell_type": "markdown",
   "metadata": {},
   "source": [
    "## Reading text"
   ]
  },
  {
   "cell_type": "code",
   "execution_count": 223,
   "metadata": {},
   "outputs": [],
   "source": [
    "def read_text_from_box(image):\n",
    "    gray = cv2.cvtColor(image.copy(), cv2.COLOR_BGR2GRAY)\n",
    "\n",
    "    kernel = np.ones((1, 1), np.uint8)\n",
    "    gray = cv2.dilate(gray, kernel, iterations=1)\n",
    "    gray = cv2.erode(gray, kernel, iterations=1)\n",
    "\n",
    "    blurred = cv2.GaussianBlur(gray.copy(), (5, 5), 0)\n",
    "    thresh = cv2.threshold(blurred, 0, 225, \\\n",
    "                           cv2.THRESH_BINARY + cv2.THRESH_OTSU)[1]\n",
    "\n",
    "    text = image_to_string(thresh, lang='rus').replace('\\n', ' ')\n",
    "    \n",
    "    return text"
   ]
  },
  {
   "cell_type": "code",
   "execution_count": null,
   "metadata": {},
   "outputs": [],
   "source": []
  },
  {
   "cell_type": "code",
   "execution_count": 567,
   "metadata": {
    "scrolled": false
   },
   "outputs": [],
   "source": [
    "image = cv2.imread('result/7.png')\n",
    "(h, w, _) = image.shape\n",
    "box = image[int(h/2):h, int(w/3):w]\n",
    "bottom = read_text_from_box(box)"
   ]
  },
  {
   "cell_type": "code",
   "execution_count": 568,
   "metadata": {},
   "outputs": [],
   "source": [
    "box = image[0:int(h/3), 0:w]\n",
    "top = read_text_from_box(box)"
   ]
  },
  {
   "cell_type": "code",
   "execution_count": 569,
   "metadata": {},
   "outputs": [],
   "source": [
    "image = imutils.rotate_bound(image, -90)\n",
    "(h, w, _) = image.shape\n",
    "box = image[0:int(y/10), 0:w]\n",
    "number = read_text_from_box(box)"
   ]
  },
  {
   "cell_type": "markdown",
   "metadata": {},
   "source": [
    "## Classifing text"
   ]
  },
  {
   "cell_type": "code",
   "execution_count": 570,
   "metadata": {},
   "outputs": [],
   "source": [
    "passport = {\n",
    "    'ocr_result': {\n",
    "        'doc_type': 'passport',\n",
    "        'issue_authority': '',\n",
    "        'issue_code': '',\n",
    "        'issue_date': '',\n",
    "        'surname': '',\n",
    "        'name': '',\n",
    "        'patronymic_name': '',\n",
    "        'birth_date': '',\n",
    "        'gender': '',\n",
    "        'birth_place': '',\n",
    "        'series': '',\n",
    "        'number': '',\n",
    "    },\n",
    "    'text': '',\n",
    "}"
   ]
  },
  {
   "cell_type": "code",
   "execution_count": 571,
   "metadata": {},
   "outputs": [],
   "source": [
    "passport['text'] = top + bottom"
   ]
  },
  {
   "cell_type": "code",
   "execution_count": 572,
   "metadata": {},
   "outputs": [],
   "source": [
    "import re"
   ]
  },
  {
   "cell_type": "code",
   "execution_count": 581,
   "metadata": {},
   "outputs": [],
   "source": [
    "# Looking for issue code\n",
    "code = re.search(r'\\d{3}-\\d{3}', top)\n",
    "if code is not None:\n",
    "    passport['ocr_result']['issue_code'] = code[0]\n",
    "\n",
    "# Looking for issue authority\n",
    "\n",
    "AUTHORITIES = ['отделом', 'УФМС', 'МФЦ']\n",
    "\n",
    "for auth in AUTHORITIES:\n",
    "    if re.search(auth, top, flags=re.I) is not None:\n",
    "        \n",
    "        issued = re.search(r'{}.*'.format(auth), top, flags=re.I)[0].split(' ')\n",
    "        authority = ''\n",
    "        for i in issued:\n",
    "            if all(c.isupper() or c == '-' or c == '.' for c in i):\n",
    "                authority += i + ' '\n",
    "        \n",
    "        passport['ocr_result']['issue_authority'] = authority\n",
    "    \n",
    "# Looking for issue date\n",
    "date = re.search(r'\\d{2}\\.\\d{2}\\.\\d{4}', top)\n",
    "if date is not None:\n",
    "    passport['ocr_result']['issue_date'] = date[0]\n",
    "\n",
    "# Looking for name\n",
    "full_name = re.search(r'(.*(ВИЧ|ВНА))', bottom, flags=re.I)\n",
    "\n",
    "if full_name is not None:\n",
    "    full_name = full_name[0].split(' ')\n",
    "\n",
    "    name = []\n",
    "    for n in full_name:\n",
    "        if all(c.isupper() for c in n) and len(n) > 3:\n",
    "            name.append(n)\n",
    "        \n",
    "    if len(name) > 3:\n",
    "        passport['ocr_result']['patronymic_name'] = name[-1]\n",
    "        passport['ocr_result']['name'] = name[-2]\n",
    "        passport['ocr_result']['surname'] = name[-3]\n",
    "\n",
    "    \n",
    "# Looking for birth date\n",
    "date = re.search(r'\\d{2}\\.\\d{2}\\.\\d{4}', bottom)\n",
    "if date is not None:\n",
    "    passport['ocr_result']['birth_date'] = date[0]\n",
    "    \n",
    "# Looking for gender\n",
    "\n",
    "if passport['ocr_result']['patronymic_name'].endswith('ВИЧ') \\\n",
    "                    or re.search(r'(МУЖ|МУЖ.) ', bottom) is not None:\n",
    "    passport['ocr_result']['gender'] = 'male'\n",
    "elif passport['ocr_result']['patronymic_name'].endswith('ВНА') \\\n",
    "                    or re.search(r'(ЖЕН|ЖЕН.) ', bottom) is not None:\n",
    "    passport['ocr_result']['gender'] = 'female'\n",
    "    \n",
    "# Looking for place of birth\n",
    "\n",
    "genders = ['МУЖ', 'МУЖ.', 'ЖЕН', 'ЖЕН.']\n",
    "birth_place = ''\n",
    "for word in bottom.split():\n",
    "    if all(c.isupper() or c == '.' for c in word) and word not in name  \\\n",
    "                            and word not in genders and len(word) > 2:\n",
    "        birth_place += word + ' '\n",
    "passport['ocr_result']['birth_place'] = birth_place\n",
    "    \n",
    "# Looking for passport series\n",
    "\n",
    "series = re.search(r'(\\d{2} \\d{2})', number)\n",
    "if series is not None:\n",
    "    passport['ocr_result']['series'] = series[0]\n",
    "    \n",
    "# Looking for passport number\n",
    "\n",
    "num = re.search(r'(\\d{6})', number)\n",
    "if num is not None:\n",
    "    passport['ocr_result']['number'] = num[0] "
   ]
  },
  {
   "cell_type": "code",
   "execution_count": 582,
   "metadata": {
    "scrolled": true
   },
   "outputs": [
    {
     "data": {
      "text/plain": [
       "{'ocr_result': {'doc_type': 'passport',\n",
       "  'issue_authority': 'УФМС РОССИИ   ПО АВТОНОМ. ОКР. -ЮГРЕ  В ГОРОДЕ СУРГУТЕ О . ',\n",
       "  'issue_code': '860-004',\n",
       "  'issue_date': '',\n",
       "  'surname': '',\n",
       "  'name': '',\n",
       "  'patronymic_name': '',\n",
       "  'birth_date': '19.03.1990',\n",
       "  'gender': 'female',\n",
       "  'birth_place': 'ГРУЗИНСКАЯ ДНАСТАСИЯ СЕРГЕЕЕНА БЕЛЫЙ СУРГУТСКОГО РАЙОНА ТЮМЕНСКОЙ ОБЛАСТИ ',\n",
       "  'series': '67 10',\n",
       "  'number': '008593'},\n",
       " 'text': ''}"
      ]
     },
     "execution_count": 582,
     "metadata": {},
     "output_type": "execute_result"
    }
   ],
   "source": [
    "passport"
   ]
  }
 ],
 "metadata": {
  "kernelspec": {
   "display_name": "Python 3",
   "language": "python",
   "name": "python3"
  },
  "language_info": {
   "codemirror_mode": {
    "name": "ipython",
    "version": 3
   },
   "file_extension": ".py",
   "mimetype": "text/x-python",
   "name": "python",
   "nbconvert_exporter": "python",
   "pygments_lexer": "ipython3",
   "version": "3.6.7"
  }
 },
 "nbformat": 4,
 "nbformat_minor": 2
}
