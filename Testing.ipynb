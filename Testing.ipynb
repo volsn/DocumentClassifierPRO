{
 "cells": [
  {
   "cell_type": "code",
   "execution_count": 11,
   "metadata": {},
   "outputs": [],
   "source": [
    "from PIL import Image\n",
    "import pdf2image\n",
    "import imutils\n",
    "from imutils import contours\n",
    "from pytesseract import image_to_string, image_to_osd\n",
    "import cv2\n",
    "import os\n",
    "import numpy as np"
   ]
  },
  {
   "cell_type": "markdown",
   "metadata": {},
   "source": [
    "## Reading of the image and its rotating"
   ]
  },
  {
   "cell_type": "code",
   "execution_count": 4,
   "metadata": {},
   "outputs": [],
   "source": [
    "def rotate_passport(image):\n",
    "    \n",
    "    # Initializing cascade\n",
    "    cascade = cv2.CascadeClassifier('cascade.xml')\n",
    "    gray = cv2.cvtColor(image.copy(), cv2.COLOR_BGR2GRAY)\n",
    "    \n",
    "    rotates = 0\n",
    "    # Looking for a face\n",
    "    for _ in range(4):\n",
    "        \n",
    "        face = cascade.detectMultiScale(gray, 1.3, 5)\n",
    "        \n",
    "        if face is not ():\n",
    "            return imutils.rotate_bound(image, 90 * rotates)\n",
    "        \n",
    "        gray = imutils.rotate_bound(gray, 90)\n",
    "        rotates += 1\n",
    "    \n",
    "    # Return false if the given picture is not a passport\n",
    "    return False"
   ]
  },
  {
   "cell_type": "code",
   "execution_count": 5,
   "metadata": {},
   "outputs": [],
   "source": [
    "def cut_passport(image):\n",
    "    \n",
    "    # Initializing cascade\n",
    "    cascade = cv2.CascadeClassifier('cascade.xml')\n",
    "    gray = cv2.cvtColor(image.copy(), cv2.COLOR_BGR2GRAY)\n",
    "    \n",
    "    # Finding a face\n",
    "    face = cascade.detectMultiScale(gray, 1.3, 5)\n",
    "    \n",
    "    # Cutting the image so only passport was left\n",
    "    (x, y, w, h) = face[0]\n",
    "    \n",
    "    output = image.copy()\n",
    "    cv2.rectangle(output, (x, y), (x + w, y + h),\n",
    "                  (0, 0, 255), 2)\n",
    "\n",
    "    image = image[y - 6 * h: y + 3 * h, x - w:x + 6 * w]\n",
    "    \n",
    "    return image"
   ]
  },
  {
   "cell_type": "code",
   "execution_count": 59,
   "metadata": {},
   "outputs": [
    {
     "data": {
      "text/plain": [
       "-1"
      ]
     },
     "execution_count": 59,
     "metadata": {},
     "output_type": "execute_result"
    }
   ],
   "source": [
    "name = 'test/224.jpeg'\n",
    "image = cv2.imread(name)\n",
    "\n",
    "image = rotate_passport(image)\n",
    "image = cut_passport(image)\n",
    "image = imutils.resize(image, width=750)\n",
    "\n",
    "cv2.imshow('Output', image)\n",
    "cv2.waitKey(0)"
   ]
  },
  {
   "cell_type": "markdown",
   "metadata": {},
   "source": [
    "## Reading text"
   ]
  },
  {
   "cell_type": "code",
   "execution_count": 60,
   "metadata": {},
   "outputs": [],
   "source": [
    "def read_text_from_box(image):\n",
    "    gray = cv2.cvtColor(image.copy(), cv2.COLOR_BGR2GRAY)\n",
    "    \n",
    "    kernel = np.ones((1, 1), np.uint8)\n",
    "    gray = cv2.dilate(gray, kernel, iterations=1)\n",
    "    gray = cv2.erode(gray, kernel, iterations=1)\n",
    "\n",
    "    blurred = cv2.GaussianBlur(gray.copy(), (5, 5), 0)\n",
    "    thresh = cv2.threshold(blurred, 0, 225, \\\n",
    "                           cv2.THRESH_BINARY + cv2.THRESH_OTSU)[1]\n",
    "    \n",
    "    cv2.imshow('Output', image)\n",
    "    cv2.waitKey(0)\n",
    "\n",
    "    text = image_to_string(thresh, lang='rus').replace('\\n', ' ')\n",
    "    \n",
    "    return text"
   ]
  },
  {
   "cell_type": "code",
   "execution_count": 107,
   "metadata": {},
   "outputs": [],
   "source": [
    "def locate_text(image):\n",
    "    \n",
    "    rectKernel = cv2.getStructuringElement(cv2.MORPH_RECT, (9, 3))\n",
    "    sqKernel = cv2.getStructuringElement(cv2.MORPH_RECT, (12, 12))\n",
    "    \n",
    "    #image = imutils.resize(image, width=300)\n",
    "    gray = cv2.cvtColor(image, cv2.COLOR_BGR2GRAY)\n",
    "    gray = cv2.GaussianBlur(gray, (5, 5), 0)\n",
    "    tophat = cv2.morphologyEx(gray, cv2.MORPH_BLACKHAT, rectKernel)\n",
    "    \n",
    "    cv2.imshow('Tophat', tophat)\n",
    "    cv2.waitKey(0)\n",
    "    \n",
    "    gradX = cv2.Sobel(tophat, ddepth=cv2.CV_32F, dx=1, dy=0,\n",
    "                    ksize=-1)\n",
    "    gradX = np.absolute(gradX)\n",
    "    (minVal, maxVal) = (np.min(gradX), np.max(gradX))\n",
    "    gradX = (255 * ((gradX - minVal) / (maxVal - minVal)))\n",
    "    gradX = gradX.astype(\"uint8\")\n",
    "    \n",
    "    cv2.imshow('Gradient', gradX)\n",
    "    cv2.waitKey(0)\n",
    "    \n",
    "    gradX = cv2.morphologyEx(gradX, cv2.MORPH_CLOSE, rectKernel)\n",
    "    thresh = cv2.threshold(gradX, 0, 255,\n",
    "                cv2.THRESH_BINARY | cv2.THRESH_OTSU)[1]\n",
    "    \n",
    "    thresh = cv2.morphologyEx(thresh, cv2.MORPH_CLOSE, sqKernel)\n",
    "    \n",
    "    p = int(image.shape[1] * 0.05)\n",
    "    thresh[:, 0:p] = 0\n",
    "    thresh[:, image.shape[1] - p:] = 0\n",
    "\n",
    "    cv2.imshow('Thresh', thresh)\n",
    "    cv2.waitKey(0)\n",
    "    \n",
    "    cnts = cv2.findContours(thresh.copy(), cv2.RETR_EXTERNAL,\n",
    "                cv2.CHAIN_APPROX_SIMPLE)\n",
    "    cnts = imutils.grab_contours(cnts)\n",
    "    locs = []\n",
    "    \n",
    "    for (i, c) in enumerate(cnts):\n",
    "        (x, y, w, h) = cv2.boundingRect(c)\n",
    "        ar = w / float(h)\n",
    "        \n",
    "        if w > 10 and h > 10 and ar > 2.5:\n",
    "            locs.append((x, y, w, h))\n",
    "    \n",
    "    locs = sorted(locs, key=lambda x:x[0])\n",
    "    output = []\n",
    "    \n",
    "    for (i, (gX, gY, gW, gH)) in enumerate(locs):\n",
    "        groupOutput = []\n",
    " \n",
    "\n",
    "        group = gray[gY - 5:gY + gH + 5, gX - 5:gX + gW + 5]\n",
    "        group = cv2.threshold(group, 0, 255,\n",
    "                    cv2.THRESH_BINARY | cv2.THRESH_OTSU)[1]\n",
    " \n",
    "        digitCnts = cv2.findContours(group.copy(), cv2.RETR_EXTERNAL,\n",
    "                    cv2.CHAIN_APPROX_SIMPLE)\n",
    "        digitCnts = imutils.grab_contours(digitCnts)\n",
    "        digitCnts = contours.sort_contours(digitCnts,\n",
    "                    method=\"left-to-right\")[0]\n",
    "        \n",
    "        cv2.rectangle(image, (gX - 5, gY - 5),\n",
    "                        (gX + gW + 5, gY + gH + 5), (0, 0, 255), 2)\n",
    "        \n",
    "        cv2.imshow('ROI', image)\n",
    "        cv2.waitKey(0)\n",
    "        #cv2.destroyAllWindows()\n",
    "        \n",
    "        \"\"\"\n",
    "        for c in digitCnts:\n",
    "            (x, y, w, h) = cv2.boundingRect(c)\n",
    "            roi = group[y:y + h, x:x + w]\n",
    "            roi = cv2.resize(roi, (57, 88))\n",
    " \n",
    "            scores = []\n",
    "\n",
    "            for (digit, digitROI) in digits.items():\n",
    "            \n",
    "                result = cv2.matchTemplate(roi, digitROI,\n",
    "                    cv2.TM_CCOEFF)\n",
    "                (_, score, _, _) = cv2.minMaxLoc(result)\n",
    "                scores.append(score)\n",
    "\n",
    "\n",
    "            groupOutput.append(str(np.argmax(scores)))\n",
    "        \"\"\""
   ]
  },
  {
   "cell_type": "code",
   "execution_count": 120,
   "metadata": {
    "scrolled": false
   },
   "outputs": [],
   "source": [
    "name = 'test/249.jpeg'\n",
    "image = cv2.imread(name)\n",
    "\n",
    "image = rotate_passport(image)\n",
    "image = cut_passport(image)\n",
    "image = imutils.resize(image, width=750)\n",
    "\n",
    "(h, w, _) = image.shape\n",
    "box = image[int(h/2):h, int(w/3):w]\n",
    "locate_text(box)\n",
    "bottom = read_text_from_box(box)"
   ]
  },
  {
   "cell_type": "code",
   "execution_count": 121,
   "metadata": {},
   "outputs": [],
   "source": [
    "name = 'test/249.jpeg'\n",
    "image = cv2.imread(name)\n",
    "\n",
    "image = rotate_passport(image)\n",
    "image = cut_passport(image)\n",
    "image = imutils.resize(image, width=750)\n",
    "\n",
    "box = image[0:int(h/3), 0:w]\n",
    "locate_text(box)\n",
    "top = read_text_from_box(box)"
   ]
  },
  {
   "cell_type": "code",
   "execution_count": 21,
   "metadata": {},
   "outputs": [],
   "source": [
    "image_ = imutils.rotate_bound(image, -90)\n",
    "(h, w, _) = image_.shape\n",
    "box = image_[0:int(h/10), 0:w]\n",
    "number = read_text_from_box(box)"
   ]
  },
  {
   "cell_type": "code",
   "execution_count": 49,
   "metadata": {},
   "outputs": [
    {
     "ename": "AttributeError",
     "evalue": "'NoneType' object has no attribute 'copy'",
     "output_type": "error",
     "traceback": [
      "\u001b[1;31m---------------------------------------------------------------------------\u001b[0m",
      "\u001b[1;31mAttributeError\u001b[0m                            Traceback (most recent call last)",
      "\u001b[1;32m<ipython-input-49-f85a94d3ad92>\u001b[0m in \u001b[0;36m<module>\u001b[1;34m\u001b[0m\n\u001b[1;32m----> 1\u001b[1;33m \u001b[0mlocate_text\u001b[0m\u001b[1;33m(\u001b[0m\u001b[0mbox\u001b[0m\u001b[1;33m)\u001b[0m\u001b[1;33m\u001b[0m\u001b[1;33m\u001b[0m\u001b[0m\n\u001b[0m",
      "\u001b[1;32m<ipython-input-47-129eeab0b1fd>\u001b[0m in \u001b[0;36mlocate_text\u001b[1;34m(image)\u001b[0m\n\u001b[0;32m     56\u001b[0m                     cv2.THRESH_BINARY | cv2.THRESH_OTSU)[1]\n\u001b[0;32m     57\u001b[0m \u001b[1;33m\u001b[0m\u001b[0m\n\u001b[1;32m---> 58\u001b[1;33m         digitCnts = cv2.findContours(group.copy(), cv2.RETR_EXTERNAL,\n\u001b[0m\u001b[0;32m     59\u001b[0m                     cv2.CHAIN_APPROX_SIMPLE)\n\u001b[0;32m     60\u001b[0m         \u001b[0mdigitCnts\u001b[0m \u001b[1;33m=\u001b[0m \u001b[0mimutils\u001b[0m\u001b[1;33m.\u001b[0m\u001b[0mgrab_contours\u001b[0m\u001b[1;33m(\u001b[0m\u001b[0mdigitCnts\u001b[0m\u001b[1;33m)\u001b[0m\u001b[1;33m\u001b[0m\u001b[1;33m\u001b[0m\u001b[0m\n",
      "\u001b[1;31mAttributeError\u001b[0m: 'NoneType' object has no attribute 'copy'"
     ]
    }
   ],
   "source": []
  },
  {
   "cell_type": "markdown",
   "metadata": {},
   "source": [
    "## Classifing text"
   ]
  },
  {
   "cell_type": "code",
   "execution_count": 259,
   "metadata": {},
   "outputs": [],
   "source": [
    "passport = {\n",
    "    'ocr_result': {\n",
    "        'doc_type': 'passport',\n",
    "        'issue_authority': '',\n",
    "        'issue_code': '',\n",
    "        'issue_date': '',\n",
    "        'surname': '',\n",
    "        'name': '',\n",
    "        'patronymic_name': '',\n",
    "        'birth_date': '',\n",
    "        'gender': '',\n",
    "        'birth_place': '',\n",
    "        'series': '',\n",
    "        'number': '',\n",
    "    },\n",
    "    'text': '',\n",
    "}"
   ]
  },
  {
   "cell_type": "code",
   "execution_count": 260,
   "metadata": {},
   "outputs": [],
   "source": [
    "passport['text'] = top + bottom"
   ]
  },
  {
   "cell_type": "code",
   "execution_count": 261,
   "metadata": {},
   "outputs": [],
   "source": [
    "import re"
   ]
  },
  {
   "cell_type": "code",
   "execution_count": 262,
   "metadata": {},
   "outputs": [],
   "source": [
    "# Looking for issue code\n",
    "code = re.search(r'\\d{3}-\\d{3}', top)\n",
    "if code is not None:\n",
    "    passport['ocr_result']['issue_code'] = code[0]\n",
    "\n",
    "# Looking for issue authority\n",
    "\n",
    "AUTHORITIES = ['отделом', 'УФМС', 'МФЦ', 'УВД']\n",
    "\n",
    "authority = ''\n",
    "\n",
    "for auth in AUTHORITIES:\n",
    "    if re.search(auth, top, flags=re.I) is not None:\n",
    "        \n",
    "        issued = re.search(r'{}.*'.format(auth), top, flags=re.I)[0].split(' ')\n",
    "        for i in issued:\n",
    "            if all(c.isupper() or c == '-' or c == '.' for c in i):\n",
    "                authority += i + ' '\n",
    "        break\n",
    "                \n",
    "    \n",
    "# If nothing that could be related to issue authority was found,\n",
    "# consider all words in the top to be such\n",
    "if authority is '':\n",
    "    \n",
    "    for word in top.split():\n",
    "        if all(c.isalpha() or c == '-' or c == '.' for c in word) \\\n",
    "                    and len(word) > 3:\n",
    "            authority += word + ' '\n",
    "            \n",
    "    \n",
    "passport['ocr_result']['issue_authority'] = authority\n",
    "    \n",
    "# Looking for issue date\n",
    "date = re.search(r'\\d{2}\\.\\d{2}\\.\\d{4}', top)\n",
    "if date is not None:\n",
    "    passport['ocr_result']['issue_date'] = date[0]\n",
    "\n",
    "# Looking for name\n",
    "full_name = re.search(r'(.*( .*(ВИЧ|ВНА)))', bottom, flags=re.I)\n",
    "\n",
    "if full_name is not None:\n",
    "\n",
    "    passport['ocr_result']['patronymic_name'] = full_name[2]\n",
    "    full_name = full_name[0].split()\n",
    "\n",
    "    name = []\n",
    "    for n in full_name:\n",
    "        if all(c.isalpha() for c in n) and len(n) >= 3:\n",
    "            name.append(n)\n",
    "        \n",
    "    if len(name) > 1:\n",
    "        passport['ocr_result']['surname'] = name[0]\n",
    "        passport['ocr_result']['name'] = name[1]\n",
    "        \n",
    "\n",
    "# Looking for birth date\n",
    "date = re.search(r'\\d{2}\\.\\d{2}\\.\\d{4}', bottom)\n",
    "if date is not None:\n",
    "    passport['ocr_result']['birth_date'] = date[0]\n",
    "    \n",
    "# Looking for gender\n",
    "\n",
    "if passport['ocr_result']['patronymic_name'].endswith('ВИЧ') \\\n",
    "                    or re.search(r'(МУЖ|МУЖ.) ', bottom) is not None:\n",
    "    passport['ocr_result']['gender'] = 'male'\n",
    "elif passport['ocr_result']['patronymic_name'].endswith('ВНА') \\\n",
    "                    or re.search(r'(ЖЕН|ЖЕН.) ', bottom) is not None:\n",
    "    passport['ocr_result']['gender'] = 'female'\n",
    "    \n",
    "# Looking for place of birth\n",
    "\n",
    "genders = ['МУЖ', 'МУЖ.', 'ЖЕН', 'ЖЕН.']\n",
    "birth_place = ''\n",
    "for word in bottom.split():\n",
    "    if all(c.isalpha() or c == '.' for c in word) and word not in name  \\\n",
    "                            and word not in genders and len(word) > 2:\n",
    "        birth_place += word + ' '\n",
    "passport['ocr_result']['birth_place'] = birth_place\n",
    "    \n",
    "# Looking for passport series\n",
    "\n",
    "series = re.search(r'(\\d{2} \\d{2})', number)\n",
    "if series is not None:\n",
    "    passport['ocr_result']['series'] = series[0]\n",
    "    \n",
    "# Looking for passport number\n",
    "\n",
    "num = re.search(r'(\\d{6})', number)\n",
    "if num is not None:\n",
    "    passport['ocr_result']['number'] = num[0] "
   ]
  },
  {
   "cell_type": "code",
   "execution_count": 263,
   "metadata": {},
   "outputs": [
    {
     "data": {
      "text/plain": [
       "{'ocr_result': {'doc_type': 'passport',\n",
       "  'issue_authority': 'ОТДЕЛОМ УФМС РОССИИ ПО ХАНТЫ-МАНСИЙСКОМУ АВТОНОМ. ОКР. -ЮГРЕ В ГОРОДЕ СУРГУТЕ       ',\n",
       "  'issue_code': '860-004',\n",
       "  'issue_date': '22.05.2011',\n",
       "  'surname': 'ЛЫСЕНКО',\n",
       "  'name': 'наталья',\n",
       "  'patronymic_name': ' АЛЕКСАНДРОВНА',\n",
       "  'birth_date': '43.04.1985',\n",
       "  'gender': 'female',\n",
       "  'birth_place': 'СУРГУТ ТЮМЕНСКОЙ ОБЛАСТИ ',\n",
       "  'series': '',\n",
       "  'number': ''},\n",
       " 'text': 'Ирод ОТДЕЛОМ УФМС РОССИИ ПО ХАНТЫ-МАНСИЙСКОМУ АВТОНОМ. ОКР. -ЮГРЕ В ГОРОДЕ СУРГУТЕ 22.05.2011 860-004  Аата кылачи Кол подразделения  Аннный кол     / 1ЛЫСЕНКО ©  наталья аи АЛЕКСАНДРОВНА | „. ЖЕН. “, 43.04.1985 |  `.\" „ГОР. СУРГУТ ТЮМЕНСКОЙ ОБЛАСТИ  р --'}"
      ]
     },
     "execution_count": 263,
     "metadata": {},
     "output_type": "execute_result"
    }
   ],
   "source": [
    "passport"
   ]
  },
  {
   "cell_type": "code",
   "execution_count": 252,
   "metadata": {},
   "outputs": [],
   "source": [
    "full_name = re.search(r'(.*( .*(ВИЧ|ВНА)))', bottom, flags=re.I)"
   ]
  },
  {
   "cell_type": "markdown",
   "metadata": {},
   "source": [
    "## EAST Text Detection"
   ]
  },
  {
   "cell_type": "code",
   "execution_count": 351,
   "metadata": {},
   "outputs": [],
   "source": [
    "from imutils.object_detection import non_max_suppression"
   ]
  },
  {
   "cell_type": "code",
   "execution_count": 352,
   "metadata": {},
   "outputs": [
    {
     "data": {
      "text/plain": [
       "-1"
      ]
     },
     "execution_count": 352,
     "metadata": {},
     "output_type": "execute_result"
    }
   ],
   "source": [
    "image = box.copy()\n",
    "\n",
    "gray = cv2.cvtColor(image.copy(), cv2.COLOR_BGR2GRAY)\n",
    "\n",
    "kernel = np.ones((1, 1), np.uint8)\n",
    "gray = cv2.dilate(gray, kernel, iterations=1)\n",
    "gray = cv2.erode(gray, kernel, iterations=1)\n",
    "\n",
    "blurred = cv2.GaussianBlur(gray.copy(), (5, 5), 0)\n",
    "thresh = cv2.threshold(blurred, 0, 225, \\\n",
    "                       cv2.THRESH_BINARY + cv2.THRESH_OTSU)[1]\n",
    "\n",
    "cv2.imshow('Output', thresh)\n",
    "cv2.waitKey(0)"
   ]
  },
  {
   "cell_type": "code",
   "execution_count": 365,
   "metadata": {},
   "outputs": [],
   "source": [
    "orig = image.copy()\n",
    "(H, W) = image.shape[:2]\n",
    " \n",
    "(newW, newH) = (640, 640)\n",
    "rW = W / float(newW)\n",
    "rH = H / float(newH)\n",
    " \n",
    "image = cv2.resize(image, (newW, newH))\n",
    "(H, W) = image.shape[:2]"
   ]
  },
  {
   "cell_type": "code",
   "execution_count": 366,
   "metadata": {},
   "outputs": [],
   "source": [
    "layerNames = [\n",
    "    \"feature_fusion/Conv_7/Sigmoid\",\n",
    "    \"feature_fusion/concat_3\"]"
   ]
  },
  {
   "cell_type": "code",
   "execution_count": 367,
   "metadata": {},
   "outputs": [],
   "source": [
    "net = cv2.dnn.readNet('frozen_east_text_detection.pb')"
   ]
  },
  {
   "cell_type": "code",
   "execution_count": 368,
   "metadata": {},
   "outputs": [],
   "source": [
    "blob = cv2.dnn.blobFromImage(image, 1.0, (W, H),\n",
    "    (123.68, 116.78, 103.94), swapRB=True, crop=False)\n",
    "net.setInput(blob)\n",
    "(scores, geometry) = net.forward(layerNames)"
   ]
  },
  {
   "cell_type": "code",
   "execution_count": 369,
   "metadata": {},
   "outputs": [],
   "source": [
    "(numRows, numCols) = scores.shape[2:4]\n",
    "rects = []\n",
    "confidences = []\n",
    " \n",
    "for y in range(0, numRows):\n",
    "    scoresData = scores[0, 0, y]\n",
    "    xData0 = geometry[0, 0, y]\n",
    "    xData1 = geometry[0, 1, y]\n",
    "    xData2 = geometry[0, 2, y]\n",
    "    xData3 = geometry[0, 3, y]\n",
    "    anglesData = geometry[0, 4, y]\n",
    "    for x in range(0, numCols):\n",
    "        # if our score does not have sufficient probability, ignore it\n",
    "        if scoresData[x] < 0.9:\n",
    "            continue\n",
    "\n",
    "        # compute the offset factor as our resulting feature maps will\n",
    "        # be 4x smaller than the input image\n",
    "        (offsetX, offsetY) = (x * 4.0, y * 4.0)\n",
    "\n",
    "        # extract the rotation angle for the prediction and then\n",
    "        # compute the sin and cosine\n",
    "        angle = anglesData[x]\n",
    "        cos = np.cos(angle)\n",
    "        sin = np.sin(angle)\n",
    "\n",
    "        # use the geometry volume to derive the width and height of\n",
    "        # the bounding box\n",
    "        h = xData0[x] + xData2[x]\n",
    "        w = xData1[x] + xData3[x]\n",
    "\n",
    "        # compute both the starting and ending (x, y)-coordinates for\n",
    "        # the text prediction bounding box\n",
    "        endX = int(offsetX + (cos * xData1[x]) + (sin * xData2[x]))\n",
    "        endY = int(offsetY - (sin * xData1[x]) + (cos * xData2[x]))\n",
    "        startX = int(endX - w)\n",
    "        startY = int(endY - h)\n",
    "\n",
    "        # add the bounding box coordinates and probability score to\n",
    "        # our respective lists\n",
    "        rects.append((startX, startY, endX, endY))\n",
    "        confidences.append(scoresData[x])"
   ]
  },
  {
   "cell_type": "code",
   "execution_count": 371,
   "metadata": {},
   "outputs": [
    {
     "data": {
      "text/plain": [
       "-1"
      ]
     },
     "execution_count": 371,
     "metadata": {},
     "output_type": "execute_result"
    }
   ],
   "source": [
    "boxes = non_max_suppression(np.array(rects), probs=confidences)\n",
    "\n",
    "for (startX, startY, endX, endY) in boxes:\n",
    "    startX = int(startX * rW)\n",
    "    startY = int(startY * rH)\n",
    "    endX = int(endX * rW)\n",
    "    endY = int(endY * rH)\n",
    "\n",
    "    cv2.rectangle(orig, (startX, startY), (endX, endY), (0, 255, 0), 2)\n",
    "\n",
    "cv2.imshow(\"Text Detection\", orig)\n",
    "cv2.waitKey(0)"
   ]
  },
  {
   "cell_type": "code",
   "execution_count": null,
   "metadata": {},
   "outputs": [],
   "source": []
  },
  {
   "cell_type": "code",
   "execution_count": null,
   "metadata": {},
   "outputs": [],
   "source": []
  }
 ],
 "metadata": {
  "kernelspec": {
   "display_name": "Python 3",
   "language": "python",
   "name": "python3"
  },
  "language_info": {
   "codemirror_mode": {
    "name": "ipython",
    "version": 3
   },
   "file_extension": ".py",
   "mimetype": "text/x-python",
   "name": "python",
   "nbconvert_exporter": "python",
   "pygments_lexer": "ipython3",
   "version": "3.6.7"
  }
 },
 "nbformat": 4,
 "nbformat_minor": 2
}
